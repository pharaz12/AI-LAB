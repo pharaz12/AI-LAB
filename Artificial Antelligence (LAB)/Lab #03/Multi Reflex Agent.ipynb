{
 "cells": [
  {
   "cell_type": "code",
   "execution_count": 9,
   "id": "58fb96ac-33af-4a63-b276-18897afc395d",
   "metadata": {},
   "outputs": [
    {
     "name": "stdout",
     "output_type": "stream",
     "text": [
      "Living Room: 28==> Turn Off the Heater\n",
      "Bedroom: 18==> Turn On the Heater\n",
      "kitchen: 12==> Turn On the Heater\n"
     ]
    }
   ],
   "source": [
    "# Simple Reflex Agent which we do in lab 2. Multi Reflex is down cell.\n",
    "\n",
    "class simpleReflexAgent:\n",
    "    def __init__(self,temp):\n",
    "        self.desired_temp = temp\n",
    "\n",
    "    def perspect(self,temp):\n",
    "        self.current_temp = temp\n",
    "\n",
    "    def act(self):\n",
    "        if self.current_temp > self.desired_temp:\n",
    "            return \"Turn Off the Heater\"\n",
    "        else:\n",
    "            return \"Turn On the Heater\"\n",
    "\n",
    "agent=simpleReflexAgent(22)\n",
    "agent.perspect(16)\n",
    "agent.act()\n",
    "\n",
    "rooms = {\n",
    "    \"Living Room\" : 28,\n",
    "    \"Bedroom\" : 18,\n",
    "    \"kitchen\" : 12\n",
    "}\n",
    "\n",
    "for room, temp in rooms.items():\n",
    "    agent.perspect(temp)\n",
    "    print(f\"{room}: {temp}==> {agent.act()}\")"
   ]
  },
  {
   "cell_type": "code",
   "execution_count": 15,
   "id": "e770d710-5dc4-499d-bfb3-8b21a14f5cdb",
   "metadata": {},
   "outputs": [
    {
     "name": "stdout",
     "output_type": "stream",
     "text": [
      "Living room: 28 ==>Turn off the Heaters.\n",
      "Bedroom: 18 ==>Turn on the Heaters.\n",
      "Kitchen: 12 ==>Turn on the Heaters.\n"
     ]
    }
   ],
   "source": [
    "class MultiReflexAgent:\n",
    "    \n",
    "    def __init__(self,desired_temps):\n",
    "        self.desired_temps = desired_temps\n",
    "        self.current_temps = {}\n",
    "\n",
    "    def set_current_temp(self,room,temp):\n",
    "        self.current_temps[room] = temp\n",
    "\n",
    "    def act(self):\n",
    "        actions = {}\n",
    "        for room, current_temp in self.current_temps.items():\n",
    "            desired_temp = self.desired_temps.get(room, None)\n",
    "            if desired_temp is not None:\n",
    "                if current_temp > desired_temp:\n",
    "                    actions[room] = \"Turn off the Heaters.\"\n",
    "\n",
    "                else:\n",
    "                    actions[room] = \"Turn on the Heaters.\"\n",
    "\n",
    "        return actions\n",
    "\n",
    "\n",
    "desired_tempratures = {\n",
    "    \"Living room\": 22,\n",
    "    \"Bedroom\": 20,\n",
    "    \"Kitchen\": 18\n",
    "}\n",
    "\n",
    "agent = MultiReflexAgent(desired_tempratures)\n",
    "\n",
    "rooms = {\n",
    "    \"Living room\": 28,\n",
    "    \"Bedroom\": 18,\n",
    "    \"Kitchen\": 12\n",
    "}\n",
    "\n",
    "for room, temp in rooms.items():\n",
    "    agent.set_current_temp(room,temp)\n",
    "\n",
    "actions = agent.act()\n",
    "for room, action in actions.items():\n",
    "    print(f\"{room}: {rooms[room]} ==>{action}\")"
   ]
  },
  {
   "cell_type": "code",
   "execution_count": null,
   "id": "5520f559-f104-4951-a430-b6bf32462719",
   "metadata": {},
   "outputs": [],
   "source": []
  }
 ],
 "metadata": {
  "kernelspec": {
   "display_name": "Python 3 (ipykernel)",
   "language": "python",
   "name": "python3"
  },
  "language_info": {
   "codemirror_mode": {
    "name": "ipython",
    "version": 3
   },
   "file_extension": ".py",
   "mimetype": "text/x-python",
   "name": "python",
   "nbconvert_exporter": "python",
   "pygments_lexer": "ipython3",
   "version": "3.12.1"
  }
 },
 "nbformat": 4,
 "nbformat_minor": 5
}
