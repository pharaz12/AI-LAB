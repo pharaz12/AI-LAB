{
 "cells": [
  {
   "cell_type": "code",
   "execution_count": null,
   "id": "bf495d20-ada8-4cd2-bee5-e15797811bf8",
   "metadata": {},
   "outputs": [],
   "source": [
    "def add_movies():\n",
    "    \n",
    "    movies = [(\"Eternal Sunshine of the Spotless Mind\", 20000000),\n",
    "        (\"Memento\", 9000000),\n",
    "        (\"Requiem for a Dream\", 4500000),\n",
    "        (\"Pirates of the Caribbean: On Stranger Tides\", 379000000),\n",
    "        (\"Avengers: Age of Ultron\", 365000000),\n",
    "        (\"Avengers: Endgame\", 356000000),\n",
    "        (\"Incredibles 2\", 200000000)\n",
    " ]\n",
    "    \n",
    "    num_movies_to_add = int(input(\"How many movies do you want to add? \"))\n",
    "    for i in range(num_movies_to_add):\n",
    "        name = input(\"Enter the movie name: \")\n",
    "        budget = int(input(\"Enter the movie budget: \"))\n",
    "        movies.append((name, budget))\n",
    "\n",
    "\n",
    "    total_budget = sum(budget for i, budget in movies)\n",
    "    Average_budget = total_budget/ len(movies)\n",
    "    print(\"Average Budget is: $\",Average_budget)\n",
    "\n",
    "\n",
    "    high_budget_movies = [movie for movie in movies if movie[1] > Average_budget]\n",
    "    for movie in high_budget_movies:\n",
    "        name, budget = movie\n",
    "        print(f\"{name} has a budget of ${budget} which is ${budget - Average_budget:} higher than the average.\")\n",
    "    return len(high_budget_movies)\n",
    "    \n",
    "        \n",
    "    print(movies)\n",
    "\n",
    "add_movies()"
   ]
  },
  {
   "cell_type": "code",
   "execution_count": null,
   "id": "8a37fe48-5034-4c0f-b020-10f9eec9b035",
   "metadata": {},
   "outputs": [],
   "source": []
  }
 ],
 "metadata": {
  "kernelspec": {
   "display_name": "Python 3 (ipykernel)",
   "language": "python",
   "name": "python3"
  },
  "language_info": {
   "codemirror_mode": {
    "name": "ipython",
    "version": 3
   },
   "file_extension": ".py",
   "mimetype": "text/x-python",
   "name": "python",
   "nbconvert_exporter": "python",
   "pygments_lexer": "ipython3",
   "version": "3.12.1"
  }
 },
 "nbformat": 4,
 "nbformat_minor": 5
}
