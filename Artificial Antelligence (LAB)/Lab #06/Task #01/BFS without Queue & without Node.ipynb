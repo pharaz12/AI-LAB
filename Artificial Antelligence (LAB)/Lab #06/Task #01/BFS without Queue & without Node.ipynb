{
 "cells": [
  {
   "cell_type": "code",
   "execution_count": 2,
   "id": "76a93e3c-b3e0-47f3-8ff3-48d9a0795992",
   "metadata": {},
   "outputs": [
    {
     "name": "stdout",
     "output_type": "stream",
     "text": [
      "BFS without Queue: [1, 2, 3, 4, 5]\n"
     ]
    }
   ],
   "source": [
    "def bfs_without_queue(graph, start):\n",
    "    visited = set()\n",
    "    result = []\n",
    "    stack = [start]  \n",
    "\n",
    "    while stack:\n",
    "        node = stack.pop(0)  \n",
    "        if node not in visited:\n",
    "            visited.add(node)\n",
    "            result.append(node)\n",
    "            stack.extend(graph[node])  \n",
    "\n",
    "    return result\n",
    "\n",
    "graph = {\n",
    "    1: [2, 3],\n",
    "    2: [4, 5],\n",
    "    3: [],\n",
    "    4: [],\n",
    "    5: []\n",
    "}\n",
    "\n",
    "print(\"Breadth First Search without Queue:\", bfs_without_queue(graph, 1))\n"
   ]
  },
  {
   "cell_type": "code",
   "execution_count": null,
   "id": "454626c4-000f-4790-8dea-ef815b4ef31c",
   "metadata": {},
   "outputs": [],
   "source": []
  }
 ],
 "metadata": {
  "kernelspec": {
   "display_name": "Python 3 (ipykernel)",
   "language": "python",
   "name": "python3"
  },
  "language_info": {
   "codemirror_mode": {
    "name": "ipython",
    "version": 3
   },
   "file_extension": ".py",
   "mimetype": "text/x-python",
   "name": "python",
   "nbconvert_exporter": "python",
   "pygments_lexer": "ipython3",
   "version": "3.12.1"
  }
 },
 "nbformat": 4,
 "nbformat_minor": 5
}
