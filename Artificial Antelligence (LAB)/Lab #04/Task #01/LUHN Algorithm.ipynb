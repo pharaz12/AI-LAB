{
 "cells": [
  {
   "cell_type": "code",
   "execution_count": 16,
   "id": "11b9a2f7-9452-473d-bace-4d9faa9dd032",
   "metadata": {},
   "outputs": [
    {
     "name": "stdout",
     "output_type": "stream",
     "text": [
      "Removed Digit is: 6\n",
      "Reversed List is: [6, 0, 7, 7, 8, 4, 0, 0, 0, 7, 7, 1, 9, 5, 5]\n",
      "List after multiply 2 and subtract 9 which is greater then 9 on even index values: [3, 0, 5, 7, 7, 4, 0, 0, 0, 7, 5, 1, 9, 5, 1]\n",
      "Total sum of list is: 54\n",
      "Card Number is Valid.\n"
     ]
    }
   ],
   "source": [
    "list1 = [5,5,9,1,7,7,0,0,0,4,8,7,7,0,6,6]\n",
    "\n",
    "remove_digit = list1.pop()\n",
    "print(\"Removed Digit is:\", remove_digit)\n",
    "\n",
    "reverse_list = list1.reverse()\n",
    "print(\"Reversed List is:\", list1)\n",
    "\n",
    "for i in range (len(list1)):\n",
    "    if i % 2 == 0:\n",
    "        list1[i] *= 2\n",
    "        if list1[i] > 9:\n",
    "            list1[i] -= 9\n",
    "\n",
    "total_sum = sum(list1)\n",
    "print(\"List after multiply 2 and subtract 9 which is greater then 9 on even index values:\", list1)\n",
    "print(\"Total sum of list is:\", total_sum)\n",
    "\n",
    "if (total_sum + remove_digit) % 10 == 0:\n",
    "    print(\"Card Number is Valid.\")\n",
    "else:\n",
    "    print(\"Card Number is Invalid.\")\n",
    "        "
   ]
  },
  {
   "cell_type": "code",
   "execution_count": null,
   "id": "04b2905e-fe58-496e-8c1d-66f01fe7d367",
   "metadata": {},
   "outputs": [],
   "source": []
  }
 ],
 "metadata": {
  "kernelspec": {
   "display_name": "Python 3 (ipykernel)",
   "language": "python",
   "name": "python3"
  },
  "language_info": {
   "codemirror_mode": {
    "name": "ipython",
    "version": 3
   },
   "file_extension": ".py",
   "mimetype": "text/x-python",
   "name": "python",
   "nbconvert_exporter": "python",
   "pygments_lexer": "ipython3",
   "version": "3.12.1"
  }
 },
 "nbformat": 4,
 "nbformat_minor": 5
}
