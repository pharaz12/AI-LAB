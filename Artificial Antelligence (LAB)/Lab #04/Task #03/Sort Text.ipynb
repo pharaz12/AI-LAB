{
 "cells": [
  {
   "cell_type": "code",
   "execution_count": 1,
   "id": "e8b5896e-9ab6-41da-91a3-edd097540106",
   "metadata": {},
   "outputs": [
    {
     "name": "stdin",
     "output_type": "stream",
     "text": [
      "Enter your text that you want to sort. once upon a tie\n"
     ]
    },
    {
     "name": "stdout",
     "output_type": "stream",
     "text": [
      "The Orignal String: once upon a tie\n",
      "The Sorted String:    aceeinnooptu\n"
     ]
    }
   ],
   "source": [
    "def sort_text():\n",
    "\n",
    "    input_string = input(\"Enter your text that you want to sort.\")\n",
    "    chars = list(input_string)\n",
    "    n = len(chars)\n",
    "\n",
    "    for i in range (n):\n",
    "        for j in range (0,n-i-1):\n",
    "            if chars[j] > chars[j+1]:\n",
    "                chars[j],chars[j+1] = chars[j+1],chars[j]\n",
    "\n",
    "    sorted_string = ''.join(chars)\n",
    "\n",
    "    print(\"The Orignal String:\", input_string)\n",
    "    print(\"The Sorted String:\", sorted_string)\n",
    "\n",
    "sort_text()\n",
    "            "
   ]
  },
  {
   "cell_type": "code",
   "execution_count": null,
   "id": "54fa4c76-4da2-49d0-93af-1382d9c1d550",
   "metadata": {},
   "outputs": [],
   "source": []
  }
 ],
 "metadata": {
  "kernelspec": {
   "display_name": "Python 3 (ipykernel)",
   "language": "python",
   "name": "python3"
  },
  "language_info": {
   "codemirror_mode": {
    "name": "ipython",
    "version": 3
   },
   "file_extension": ".py",
   "mimetype": "text/x-python",
   "name": "python",
   "nbconvert_exporter": "python",
   "pygments_lexer": "ipython3",
   "version": "3.12.1"
  }
 },
 "nbformat": 4,
 "nbformat_minor": 5
}
