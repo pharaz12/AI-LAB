{
 "cells": [
  {
   "cell_type": "code",
   "execution_count": 11,
   "id": "d6e3828c-b9b8-4429-af83-0e1f3fe85942",
   "metadata": {},
   "outputs": [
    {
     "name": "stderr",
     "output_type": "stream",
     "text": [
      "<>:3: SyntaxWarning: invalid escape sequence '\\_'\n",
      "<>:3: SyntaxWarning: invalid escape sequence '\\_'\n",
      "C:\\Users\\Admin\\AppData\\Local\\Temp\\ipykernel_10048\\2735212926.py:3: SyntaxWarning: invalid escape sequence '\\_'\n",
      "  punc = '''!()-[]{}:;'\",<>./?@#$%^&*\\_'''\n"
     ]
    },
    {
     "name": "stdin",
     "output_type": "stream",
     "text": [
      "Enter your text Here sadf$*#\n"
     ]
    },
    {
     "name": "stdout",
     "output_type": "stream",
     "text": [
      "Your Text after Removing Punctuations. sadf\n"
     ]
    }
   ],
   "source": [
    "def remove_punc():\n",
    "    \n",
    "    punc = '''!()-[]{}:;'\",<>./?@#$%^&*\\_'''\n",
    "\n",
    "    string = input(\"Enter your text Here\")\n",
    "\n",
    "    empty_string = \"\"\n",
    "\n",
    "    for i in string:\n",
    "        if i not in punc:\n",
    "            empty_string = empty_string+i\n",
    "\n",
    "    print(\"Your Text after Removing Punctuations.\", empty_string)\n",
    "\n",
    "remove_punc()"
   ]
  },
  {
   "cell_type": "code",
   "execution_count": null,
   "id": "53c53333-d7fe-46eb-ba7f-d9cbcdc45d3d",
   "metadata": {},
   "outputs": [],
   "source": []
  }
 ],
 "metadata": {
  "kernelspec": {
   "display_name": "Python 3 (ipykernel)",
   "language": "python",
   "name": "python3"
  },
  "language_info": {
   "codemirror_mode": {
    "name": "ipython",
    "version": 3
   },
   "file_extension": ".py",
   "mimetype": "text/x-python",
   "name": "python",
   "nbconvert_exporter": "python",
   "pygments_lexer": "ipython3",
   "version": "3.12.1"
  }
 },
 "nbformat": 4,
 "nbformat_minor": 5
}
