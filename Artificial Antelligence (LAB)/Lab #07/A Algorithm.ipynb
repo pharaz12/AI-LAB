{
 "cells": [
  {
   "cell_type": "code",
   "execution_count": 2,
   "id": "a3180240-1c5e-4407-8617-6bd60ce3d92e",
   "metadata": {},
   "outputs": [
    {
     "name": "stdout",
     "output_type": "stream",
     "text": [
      "Path found: ['A', 'C', 'E']\n"
     ]
    }
   ],
   "source": [
    "class Point:\n",
    "    def __init__(self, id, parent=None, cost_g=0, cost_h=0):\n",
    "        self.id = id\n",
    "        self.parent = parent\n",
    "        self.cost_g = cost_g\n",
    "        self.cost_h = cost_h\n",
    "        self.total_cost = cost_g + cost_h\n",
    "\n",
    "    def __lt__(self, other):\n",
    "        return self.total_cost < other.total_cost\n",
    "\n",
    "def a_star_search(start_node, end_node, graph_data, heuristics):\n",
    "    open_set = []\n",
    "    closed_set = set()\n",
    "    start_point = Point(start_node, None, 0, heuristics[start_node])\n",
    "    open_set.append(start_point)\n",
    "\n",
    "    while open_set:\n",
    "        open_set.sort()\n",
    "        current_point = open_set.pop(0)\n",
    "\n",
    "        if current_point.id == end_node:\n",
    "            route = []\n",
    "            while current_point:\n",
    "                route.append(current_point.id)\n",
    "                current_point = current_point.parent\n",
    "            return route[::-1]\n",
    "\n",
    "        closed_set.add(current_point.id)\n",
    "\n",
    "        for neighbor, edge_cost in graph_data[current_point.id].items():\n",
    "            if neighbor in closed_set:\n",
    "                continue\n",
    "\n",
    "            new_g_cost = current_point.cost_g + edge_cost\n",
    "            new_h_cost = heuristics[neighbor]\n",
    "            neighbor_point = Point(neighbor, current_point, new_g_cost, new_h_cost)\n",
    "\n",
    "            for point in open_set:\n",
    "                if point.id == neighbor and new_g_cost >= point.cost_g:\n",
    "                    break\n",
    "            else:\n",
    "                open_set.append(neighbor_point)\n",
    "\n",
    "    return None\n",
    "\n",
    "graph_data = {\n",
    "    'A': {'B': 1, 'C': 4},\n",
    "    'B': {'A': 1, 'D': 2, 'E': 5},\n",
    "    'C': {'A': 4, 'E': 1},\n",
    "    'D': {'B': 2, 'E': 1},\n",
    "    'E': {'B': 5, 'C': 1, 'D': 1}\n",
    "}\n",
    "\n",
    "heuristics = {\n",
    "    'A': 7,\n",
    "    'B': 6,\n",
    "    'C': 2,\n",
    "    'D': 1,\n",
    "    'E': 0\n",
    "}\n",
    "\n",
    "start_node = 'A'\n",
    "end_node = 'E'\n",
    "route = a_star_search(start_node, end_node, graph_data, heuristics)\n",
    "\n",
    "print(\"Path found:\", route)\n"
   ]
  },
  {
   "cell_type": "code",
   "execution_count": null,
   "id": "350b6dab-aafc-412e-9ebe-6d681e7272d9",
   "metadata": {},
   "outputs": [],
   "source": []
  }
 ],
 "metadata": {
  "kernelspec": {
   "display_name": "Python 3 (ipykernel)",
   "language": "python",
   "name": "python3"
  },
  "language_info": {
   "codemirror_mode": {
    "name": "ipython",
    "version": 3
   },
   "file_extension": ".py",
   "mimetype": "text/x-python",
   "name": "python",
   "nbconvert_exporter": "python",
   "pygments_lexer": "ipython3",
   "version": "3.12.1"
  }
 },
 "nbformat": 4,
 "nbformat_minor": 5
}
