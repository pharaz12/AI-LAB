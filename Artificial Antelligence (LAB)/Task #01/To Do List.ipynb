{
 "cells": [
  {
   "cell_type": "code",
   "execution_count": 3,
   "id": "d15e8007-8dcc-451a-9364-ab91c7c8197f",
   "metadata": {},
   "outputs": [
    {
     "name": "stdout",
     "output_type": "stream",
     "text": [
      "Welcome to the To Do List App :)\n",
      "\n",
      "\n",
      "Please Select one of the following options!\n",
      "...........................................\n",
      "1. Add a new Task?\n",
      "2. Delete a Task?\n",
      "3. List of Tasks?\n",
      "4. Quit?\n"
     ]
    },
    {
     "name": "stdin",
     "output_type": "stream",
     "text": [
      "Enter your choice! 1\n",
      "Enter Your Task. eating\n"
     ]
    },
    {
     "name": "stdout",
     "output_type": "stream",
     "text": [
      "Task 'eating' added to the List.\n",
      "\n",
      "\n",
      "Please Select one of the following options!\n",
      "...........................................\n",
      "1. Add a new Task?\n",
      "2. Delete a Task?\n",
      "3. List of Tasks?\n",
      "4. Quit?\n"
     ]
    },
    {
     "name": "stdin",
     "output_type": "stream",
     "text": [
      "Enter your choice! 1\n",
      "Enter Your Task. playing\n"
     ]
    },
    {
     "name": "stdout",
     "output_type": "stream",
     "text": [
      "Task 'playing' added to the List.\n",
      "\n",
      "\n",
      "Please Select one of the following options!\n",
      "...........................................\n",
      "1. Add a new Task?\n",
      "2. Delete a Task?\n",
      "3. List of Tasks?\n",
      "4. Quit?\n"
     ]
    },
    {
     "name": "stdin",
     "output_type": "stream",
     "text": [
      "Enter your choice! 1\n",
      "Enter Your Task. sleeping\n"
     ]
    },
    {
     "name": "stdout",
     "output_type": "stream",
     "text": [
      "Task 'sleeping' added to the List.\n",
      "\n",
      "\n",
      "Please Select one of the following options!\n",
      "...........................................\n",
      "1. Add a new Task?\n",
      "2. Delete a Task?\n",
      "3. List of Tasks?\n",
      "4. Quit?\n"
     ]
    },
    {
     "name": "stdin",
     "output_type": "stream",
     "text": [
      "Enter your choice! 2\n"
     ]
    },
    {
     "name": "stdout",
     "output_type": "stream",
     "text": [
      "Crruently Tasks.\n",
      "Task #0. eating\n",
      "Task #1. playing\n",
      "Task #2. sleeping\n"
     ]
    },
    {
     "name": "stdin",
     "output_type": "stream",
     "text": [
      "Enter task number to delete. 1\n"
     ]
    },
    {
     "name": "stdout",
     "output_type": "stream",
     "text": [
      "Task 1 has been removed.\n",
      "\n",
      "\n",
      "Please Select one of the following options!\n",
      "...........................................\n",
      "1. Add a new Task?\n",
      "2. Delete a Task?\n",
      "3. List of Tasks?\n",
      "4. Quit?\n"
     ]
    },
    {
     "name": "stdin",
     "output_type": "stream",
     "text": [
      "Enter your choice! 3\n"
     ]
    },
    {
     "name": "stdout",
     "output_type": "stream",
     "text": [
      "Crruently Tasks.\n",
      "Task #0. eating\n",
      "Task #1. sleeping\n",
      "\n",
      "\n",
      "Please Select one of the following options!\n",
      "...........................................\n",
      "1. Add a new Task?\n",
      "2. Delete a Task?\n",
      "3. List of Tasks?\n",
      "4. Quit?\n"
     ]
    },
    {
     "ename": "KeyboardInterrupt",
     "evalue": "Interrupted by user",
     "output_type": "error",
     "traceback": [
      "\u001b[1;31m---------------------------------------------------------------------------\u001b[0m",
      "\u001b[1;31mKeyboardInterrupt\u001b[0m                         Traceback (most recent call last)",
      "Cell \u001b[1;32mIn[3], line 39\u001b[0m\n\u001b[0;32m     36\u001b[0m \u001b[38;5;28mprint\u001b[39m(\u001b[38;5;124m\"\u001b[39m\u001b[38;5;124m3. List of Tasks?\u001b[39m\u001b[38;5;124m\"\u001b[39m)\n\u001b[0;32m     37\u001b[0m \u001b[38;5;28mprint\u001b[39m(\u001b[38;5;124m\"\u001b[39m\u001b[38;5;124m4. Quit?\u001b[39m\u001b[38;5;124m\"\u001b[39m)\n\u001b[1;32m---> 39\u001b[0m choice \u001b[38;5;241m=\u001b[39m \u001b[38;5;28mint\u001b[39m(\u001b[38;5;28;43minput\u001b[39;49m\u001b[43m(\u001b[49m\u001b[38;5;124;43m\"\u001b[39;49m\u001b[38;5;124;43mEnter your choice!\u001b[39;49m\u001b[38;5;124;43m\"\u001b[39;49m\u001b[43m)\u001b[49m)\n\u001b[0;32m     41\u001b[0m \u001b[38;5;28;01mif\u001b[39;00m choice \u001b[38;5;241m==\u001b[39m \u001b[38;5;241m1\u001b[39m:\n\u001b[0;32m     42\u001b[0m     addTask()\n",
      "File \u001b[1;32m~\\AppData\\Local\\Programs\\Python\\Python312\\Lib\\site-packages\\ipykernel\\kernelbase.py:1282\u001b[0m, in \u001b[0;36mKernel.raw_input\u001b[1;34m(self, prompt)\u001b[0m\n\u001b[0;32m   1280\u001b[0m     msg \u001b[38;5;241m=\u001b[39m \u001b[38;5;124m\"\u001b[39m\u001b[38;5;124mraw_input was called, but this frontend does not support input requests.\u001b[39m\u001b[38;5;124m\"\u001b[39m\n\u001b[0;32m   1281\u001b[0m     \u001b[38;5;28;01mraise\u001b[39;00m StdinNotImplementedError(msg)\n\u001b[1;32m-> 1282\u001b[0m \u001b[38;5;28;01mreturn\u001b[39;00m \u001b[38;5;28;43mself\u001b[39;49m\u001b[38;5;241;43m.\u001b[39;49m\u001b[43m_input_request\u001b[49m\u001b[43m(\u001b[49m\n\u001b[0;32m   1283\u001b[0m \u001b[43m    \u001b[49m\u001b[38;5;28;43mstr\u001b[39;49m\u001b[43m(\u001b[49m\u001b[43mprompt\u001b[49m\u001b[43m)\u001b[49m\u001b[43m,\u001b[49m\n\u001b[0;32m   1284\u001b[0m \u001b[43m    \u001b[49m\u001b[38;5;28;43mself\u001b[39;49m\u001b[38;5;241;43m.\u001b[39;49m\u001b[43m_parent_ident\u001b[49m\u001b[43m[\u001b[49m\u001b[38;5;124;43m\"\u001b[39;49m\u001b[38;5;124;43mshell\u001b[39;49m\u001b[38;5;124;43m\"\u001b[39;49m\u001b[43m]\u001b[49m\u001b[43m,\u001b[49m\n\u001b[0;32m   1285\u001b[0m \u001b[43m    \u001b[49m\u001b[38;5;28;43mself\u001b[39;49m\u001b[38;5;241;43m.\u001b[39;49m\u001b[43mget_parent\u001b[49m\u001b[43m(\u001b[49m\u001b[38;5;124;43m\"\u001b[39;49m\u001b[38;5;124;43mshell\u001b[39;49m\u001b[38;5;124;43m\"\u001b[39;49m\u001b[43m)\u001b[49m\u001b[43m,\u001b[49m\n\u001b[0;32m   1286\u001b[0m \u001b[43m    \u001b[49m\u001b[43mpassword\u001b[49m\u001b[38;5;241;43m=\u001b[39;49m\u001b[38;5;28;43;01mFalse\u001b[39;49;00m\u001b[43m,\u001b[49m\n\u001b[0;32m   1287\u001b[0m \u001b[43m\u001b[49m\u001b[43m)\u001b[49m\n",
      "File \u001b[1;32m~\\AppData\\Local\\Programs\\Python\\Python312\\Lib\\site-packages\\ipykernel\\kernelbase.py:1325\u001b[0m, in \u001b[0;36mKernel._input_request\u001b[1;34m(self, prompt, ident, parent, password)\u001b[0m\n\u001b[0;32m   1322\u001b[0m \u001b[38;5;28;01mexcept\u001b[39;00m \u001b[38;5;167;01mKeyboardInterrupt\u001b[39;00m:\n\u001b[0;32m   1323\u001b[0m     \u001b[38;5;66;03m# re-raise KeyboardInterrupt, to truncate traceback\u001b[39;00m\n\u001b[0;32m   1324\u001b[0m     msg \u001b[38;5;241m=\u001b[39m \u001b[38;5;124m\"\u001b[39m\u001b[38;5;124mInterrupted by user\u001b[39m\u001b[38;5;124m\"\u001b[39m\n\u001b[1;32m-> 1325\u001b[0m     \u001b[38;5;28;01mraise\u001b[39;00m \u001b[38;5;167;01mKeyboardInterrupt\u001b[39;00m(msg) \u001b[38;5;28;01mfrom\u001b[39;00m \u001b[38;5;28;01mNone\u001b[39;00m\n\u001b[0;32m   1326\u001b[0m \u001b[38;5;28;01mexcept\u001b[39;00m \u001b[38;5;167;01mException\u001b[39;00m:\n\u001b[0;32m   1327\u001b[0m     \u001b[38;5;28mself\u001b[39m\u001b[38;5;241m.\u001b[39mlog\u001b[38;5;241m.\u001b[39mwarning(\u001b[38;5;124m\"\u001b[39m\u001b[38;5;124mInvalid Message:\u001b[39m\u001b[38;5;124m\"\u001b[39m, exc_info\u001b[38;5;241m=\u001b[39m\u001b[38;5;28;01mTrue\u001b[39;00m)\n",
      "\u001b[1;31mKeyboardInterrupt\u001b[0m: Interrupted by user"
     ]
    }
   ],
   "source": [
    "tasks = []\n",
    "\n",
    "def addTask():\n",
    "    task = input(\"Enter Your Task.\")\n",
    "    tasks.append(task)\n",
    "    print(f\"Task '{task}' added to the List.\")\n",
    "\n",
    "def listTask():\n",
    "    if not tasks:\n",
    "        print(\"There are no tasks crruently.\")\n",
    "\n",
    "    else:\n",
    "        print(\"Crruently Tasks.\")\n",
    "        for index, task in enumerate(tasks):\n",
    "            print(f\"Task {index}.. {task}\")\n",
    "\n",
    "def deleteTask():\n",
    "    listTask()\n",
    "    taskToDel = int(input(\"Enter task number to delete.\"))\n",
    "    if taskToDel >= 0 and taskToDel < len(tasks):\n",
    "        tasks.pop(taskToDel)\n",
    "        print(f\"Task {taskToDel} has been removed.\")\n",
    "\n",
    "    else:\n",
    "        print(\"Invalid Task Number.\")\n",
    "\n",
    "\n",
    "print(\"Welcome to the To Do List App :)\")\n",
    "\n",
    "while True:\n",
    "    print(\"\\n\")\n",
    "    print(\"Please Select one of the following options!\")\n",
    "    print(\"...........................................\")\n",
    "    print(\"1. Add a new Task?\")\n",
    "    print(\"2. Delete a Task?\")\n",
    "    print(\"3. List of Tasks?\")\n",
    "    print(\"4. Quit?\")\n",
    "\n",
    "    choice = int(input(\"Enter your choice!\"))\n",
    "\n",
    "    if choice == 1:\n",
    "        addTask()\n",
    "\n",
    "    elif choice == 2:\n",
    "        deleteTask()\n",
    "\n",
    "    elif choice == 3:\n",
    "        listTask()\n",
    "\n",
    "    elif choice == 4:\n",
    "        break\n",
    "\n",
    "    else:\n",
    "        print(\"Invalid option! Please Try Again..\")\n",
    "\n",
    "print(\"GoodBye:)\")\n",
    "\n"
   ]
  },
  {
   "cell_type": "code",
   "execution_count": null,
   "id": "9de1ba3f-fab6-4533-b67a-cccd4ed12a00",
   "metadata": {},
   "outputs": [],
   "source": []
  }
 ],
 "metadata": {
  "kernelspec": {
   "display_name": "Python 3 (ipykernel)",
   "language": "python",
   "name": "python3"
  },
  "language_info": {
   "codemirror_mode": {
    "name": "ipython",
    "version": 3
   },
   "file_extension": ".py",
   "mimetype": "text/x-python",
   "name": "python",
   "nbconvert_exporter": "python",
   "pygments_lexer": "ipython3",
   "version": "3.12.1"
  }
 },
 "nbformat": 4,
 "nbformat_minor": 5
}
